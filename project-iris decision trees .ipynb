{
 "cells": [
  {
   "cell_type": "code",
   "execution_count": 24,
   "metadata": {},
   "outputs": [],
   "source": [
    "from sklearn import datasets\n",
    "from sklearn.model_selection import train_test_split\n",
    "import seaborn as sa\n",
    "import pandas as pd\n",
    "import numpy as np\n",
    "import math"
   ]
  },
  {
   "cell_type": "code",
   "execution_count": 186,
   "metadata": {},
   "outputs": [],
   "source": [
    "#import the iris dataset and split it into training and testing data\n",
    "info=datasets.load_iris()\n",
    "x=info.data\n",
    "y=info.target\n",
    "iris_data=np.c_[x,y]"
   ]
  },
  {
   "cell_type": "code",
   "execution_count": 205,
   "metadata": {},
   "outputs": [],
   "source": [
    "x_train,x_test,y_train,y_test=train_test_split(info.data,info.target,random_state=0)\n",
    "iris_data=np.c_[x_train,y_train]"
   ]
  },
  {
   "cell_type": "code",
   "execution_count": 202,
   "metadata": {},
   "outputs": [
    {
     "data": {
      "text/plain": [
       "array([6.5, 2.8, 4.6, 1.5, 1. ])"
      ]
     },
     "execution_count": 202,
     "metadata": {},
     "output_type": "execute_result"
    }
   ],
   "source": [
    "features=info.feature_names\n",
    "iris_data[0]"
   ]
  },
  {
   "cell_type": "code",
   "execution_count": 212,
   "metadata": {},
   "outputs": [],
   "source": [
    "class node:\n",
    "    def __init__(self,i,r1,l2,c):\n",
    "        self.level=i\n",
    "        self.ratio=r1\n",
    "        self.b_list=l2\n",
    "        self.current=c\n",
    "        self.en=entropy_calculate(c)"
   ]
  },
  {
   "cell_type": "code",
   "execution_count": 165,
   "metadata": {},
   "outputs": [],
   "source": [
    "class leaf_node:\n",
    "    def __init__(self,i,c):\n",
    "        self.level=i\n",
    "        self.current=c"
   ]
  },
  {
   "cell_type": "code",
   "execution_count": 166,
   "metadata": {},
   "outputs": [],
   "source": [
    "def info_gain(current,data1,data2):\n",
    "    #print('info_gain',entropy_calculate(current)-((len(data1)/len(current))*entropy_calculate(data1)+(len(data2)/len(current))*entropy_calculate(data2)))\n",
    "    return entropy_calculate(current)-((float(len(data1))/len(current))*entropy_calculate(data1)+(float(len(data2))/len(current))*entropy_calculate(data2))"
   ]
  },
  {
   "cell_type": "code",
   "execution_count": 167,
   "metadata": {},
   "outputs": [],
   "source": [
    "def entropy_calculate(d):\n",
    "    e=0\n",
    "    target_dictionary=calculate_number(d)\n",
    "    for v in target_dictionary:\n",
    "        e-=(target_dictionary[v]/float(len(d)))*math.log2(target_dictionary[v]/float(len(d)))\n",
    "    #print('entropy',e)\n",
    "    return e"
   ]
  },
  {
   "cell_type": "code",
   "execution_count": 168,
   "metadata": {},
   "outputs": [],
   "source": [
    "def calculate_number(d):\n",
    "    z={}\n",
    "    for row in d:\n",
    "        if z.get(row[4],0)==0:\n",
    "            z[row[4]]=1\n",
    "        else:\n",
    "            z[row[4]]+=1\n",
    "    return z"
   ]
  },
  {
   "cell_type": "code",
   "execution_count": 207,
   "metadata": {},
   "outputs": [],
   "source": [
    "def gain_ratio(current,data1,data2):\n",
    "    if split_info(current,data1,data2)==0.0:\n",
    "        #print('m')\n",
    "        return 0\n",
    "    #print('gain_ratio',float(info_gain(current,data1,data2))/float(split_info(current,data1,data2)))\n",
    "    return info_gain(current,data1,data2)\n",
    "#/split_info(current,data1,data2)"
   ]
  },
  {
   "cell_type": "code",
   "execution_count": 188,
   "metadata": {},
   "outputs": [],
   "source": [
    "def split_info(current,data1,data2):\n",
    "    #if len(data1)==0 or len(data2)==0:\n",
    "        #return 0\n",
    "    ans=(float(len(data2))/len(current))*math.log2(float(len(data2))/len(current))+(float(len(data2))/len(current))*math.log2(float(len(data2))/len(current))\n",
    "    #print('split_info',ans)\n",
    "    return -ans"
   ]
  },
  {
   "cell_type": "code",
   "execution_count": 171,
   "metadata": {},
   "outputs": [],
   "source": [
    "def create_split(l,current):\n",
    "    data1,data2=[],[]\n",
    "    for row in current:\n",
    "        if row[l[0]]>=l[1]:\n",
    "            data1.append(row)\n",
    "        else:\n",
    "            data2.append(row)\n",
    "    return data1,data2"
   ]
  },
  {
   "cell_type": "code",
   "execution_count": 192,
   "metadata": {},
   "outputs": [],
   "source": [
    "def create_best_split(current):\n",
    "    #rint('in create best split')\n",
    "    data1,data2=[],[]\n",
    "    d1,d2=[],[]\n",
    "    best_list=[]\n",
    "    best_gain_ratio=0\n",
    "    feature_list=len(current[0])-1\n",
    "    for feature_number in range(feature_list):\n",
    "        l=[row[feature_number] for row in current]\n",
    "        for i in l:\n",
    "            details=[feature_number,i]\n",
    "            d1,d2=create_split(details,current)\n",
    "            if len(d1)==0 or len(d2)==0:\n",
    "                continue\n",
    "            gain_r=gain_ratio(current,d1,d2)\n",
    "            #nt('gain_ratio  ',gain_r)\n",
    "            if gain_r>=best_gain_ratio:\n",
    "                best_gain_ratio,best_list=gain_r,details\n",
    "                data1,data2=d1,d2\n",
    "    return best_gain_ratio,best_list,data1,data2"
   ]
  },
  {
   "cell_type": "code",
   "execution_count": 173,
   "metadata": {},
   "outputs": [],
   "source": [
    "def create_stage_node(level,current):\n",
    "    b_gain_ratio,b_list,data1,data2=create_best_split(current)\n",
    "    #rint('ratio ', b_gain_ratio)\n",
    "    if b_gain_ratio==0:\n",
    "        ln=leaf_node(level,current)\n",
    "        print_leaf_node(ln)\n",
    "        return\n",
    "    n=node(level,b_gain_ratio,b_list,current)\n",
    "    print_tree_node(n)\n",
    "    create_stage_node(level+1,data1)\n",
    "    create_stage_node(level+1,data2)"
   ]
  },
  {
   "cell_type": "code",
   "execution_count": 209,
   "metadata": {},
   "outputs": [],
   "source": [
    "def print_tree_node(n):\n",
    "    print('---------------')\n",
    "    target_dictionary=calculate_number(n.current)\n",
    "    print('level: ',n.level)\n",
    "    for v in target_dictionary:\n",
    "        print('v:  ',v,' :',target_dictionary[v])\n",
    "    print('gain_ratio: ',n.ratio)\n",
    "    print('splitted on: ',features[n.b_list[0]])\n",
    "    print('entropy :',n.en)\n",
    "    print('---------------')"
   ]
  },
  {
   "cell_type": "code",
   "execution_count": 175,
   "metadata": {},
   "outputs": [],
   "source": [
    "\n",
    "def print_leaf_node(n):\n",
    "    print('---------------')\n",
    "    print('leaf node')\n",
    "    target_dictionary=calculate_number(n.current)\n",
    "    print('level  ',n.level)\n",
    "    for v in target_dictionary:\n",
    "        print('v:  ',v,' ',target_dictionary[v])\n",
    "    print('---------------')"
   ]
  },
  {
   "cell_type": "code",
   "execution_count": 213,
   "metadata": {
    "scrolled": true
   },
   "outputs": [
    {
     "name": "stdout",
     "output_type": "stream",
     "text": [
      "---------------\n",
      "level:  0\n",
      "v:   1.0  : 34\n",
      "v:   2.0  : 41\n",
      "v:   0.0  : 37\n",
      "gain_ratio:  0.9152908478124058\n",
      "splitted on:  petal width (cm)\n",
      "entropy : 1.5807197138422102\n",
      "---------------\n",
      "---------------\n",
      "level:  1\n",
      "v:   1.0  : 34\n",
      "v:   2.0  : 41\n",
      "gain_ratio:  0.7056158047951446\n",
      "splitted on:  petal length (cm)\n",
      "entropy : 0.993707106604508\n",
      "---------------\n",
      "---------------\n",
      "level:  2\n",
      "v:   2.0  : 38\n",
      "v:   1.0  : 1\n",
      "gain_ratio:  0.08882893658807452\n",
      "splitted on:  petal width (cm)\n",
      "entropy : 0.17203694935311378\n",
      "---------------\n",
      "---------------\n",
      "leaf node\n",
      "level   3\n",
      "v:   2.0   35\n",
      "---------------\n",
      "---------------\n",
      "level:  3\n",
      "v:   2.0  : 3\n",
      "v:   1.0  : 1\n",
      "gain_ratio:  0.8112781244591328\n",
      "splitted on:  petal width (cm)\n",
      "entropy : 0.8112781244591328\n",
      "---------------\n",
      "---------------\n",
      "leaf node\n",
      "level   4\n",
      "v:   1.0   1\n",
      "---------------\n",
      "---------------\n",
      "leaf node\n",
      "level   4\n",
      "v:   2.0   3\n",
      "---------------\n",
      "---------------\n",
      "level:  2\n",
      "v:   1.0  : 33\n",
      "v:   2.0  : 3\n",
      "gain_ratio:  0.3236748364748412\n",
      "splitted on:  petal width (cm)\n",
      "entropy : 0.41381685030363374\n",
      "---------------\n",
      "---------------\n",
      "level:  3\n",
      "v:   2.0  : 3\n",
      "v:   1.0  : 1\n",
      "gain_ratio:  0.8112781244591328\n",
      "splitted on:  sepal width (cm)\n",
      "entropy : 0.8112781244591328\n",
      "---------------\n",
      "---------------\n",
      "leaf node\n",
      "level   4\n",
      "v:   1.0   1\n",
      "---------------\n",
      "---------------\n",
      "leaf node\n",
      "level   4\n",
      "v:   2.0   3\n",
      "---------------\n",
      "---------------\n",
      "leaf node\n",
      "level   3\n",
      "v:   1.0   32\n",
      "---------------\n",
      "---------------\n",
      "leaf node\n",
      "level   1\n",
      "v:   0.0   37\n",
      "---------------\n"
     ]
    }
   ],
   "source": [
    "#function to create the nodes of the decesion tree at each stage and also represent teh corresponding entropy at each stage\n",
    "create_stage_node(0,iris_data)"
   ]
  }
 ],
 "metadata": {
  "kernelspec": {
   "display_name": "Python 3",
   "language": "python",
   "name": "python3"
  },
  "language_info": {
   "codemirror_mode": {
    "name": "ipython",
    "version": 3
   },
   "file_extension": ".py",
   "mimetype": "text/x-python",
   "name": "python",
   "nbconvert_exporter": "python",
   "pygments_lexer": "ipython3",
   "version": "3.7.7"
  }
 },
 "nbformat": 4,
 "nbformat_minor": 2
}
